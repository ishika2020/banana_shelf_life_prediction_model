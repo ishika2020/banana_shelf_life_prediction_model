{
  "nbformat": 4,
  "nbformat_minor": 0,
  "metadata": {
    "colab": {
      "name": "Untitled3.ipynb",
      "provenance": [],
      "authorship_tag": "ABX9TyMQYaV2scys+BVNg/C12afu",
      "include_colab_link": true
    },
    "kernelspec": {
      "name": "python3",
      "display_name": "Python 3"
    },
    "language_info": {
      "name": "python"
    }
  },
  "cells": [
    {
      "cell_type": "markdown",
      "metadata": {
        "id": "view-in-github",
        "colab_type": "text"
      },
      "source": [
        "<a href=\"https://colab.research.google.com/github/ishika2020/banana_shelf_life_prediction_model/blob/main/modeltraining.ipynb\" target=\"_parent\"><img src=\"https://colab.research.google.com/assets/colab-badge.svg\" alt=\"Open In Colab\"/></a>"
      ]
    },
    {
      "cell_type": "code",
      "execution_count": 8,
      "metadata": {
        "colab": {
          "base_uri": "https://localhost:8080/"
        },
        "id": "JVY-TGJ8fGYn",
        "outputId": "e4df237d-74d2-410f-a01b-99de03eec57d"
      },
      "outputs": [
        {
          "output_type": "stream",
          "name": "stdout",
          "text": [
            "Mounted at /content/gdrive\n"
          ]
        }
      ],
      "source": [
        "from google.colab import drive\n",
        "drive.mount('/content/gdrive')"
      ]
    },
    {
      "cell_type": "code",
      "source": [
        "import os \n",
        "import matplotlib.pyplot as plt"
      ],
      "metadata": {
        "id": "FqTBWu4kgclc"
      },
      "execution_count": 9,
      "outputs": []
    },
    {
      "cell_type": "code",
      "source": [
        "len(os.listdir('/content/gdrive/MyDrive/banana dataset'))"
      ],
      "metadata": {
        "colab": {
          "base_uri": "https://localhost:8080/"
        },
        "id": "kForVeemfYOx",
        "outputId": "c8c63248-a0e8-4284-87c7-89aead21d7d5"
      },
      "execution_count": 10,
      "outputs": [
        {
          "output_type": "execute_result",
          "data": {
            "text/plain": [
              "4"
            ]
          },
          "metadata": {},
          "execution_count": 10
        }
      ]
    },
    {
      "cell_type": "code",
      "source": [
        "from keras.preprocessing.image import ImageDataGenerator, array_to_img, img_to_array, load_img"
      ],
      "metadata": {
        "id": "yhAe8UMkB3gW"
      },
      "execution_count": 11,
      "outputs": []
    },
    {
      "cell_type": "code",
      "source": [
        "datagen = ImageDataGenerator(\n",
        "        rotation_range=40,\n",
        "        width_shift_range=0.2,\n",
        "        height_shift_range=0.2,\n",
        "        rescale=1./255,\n",
        "        shear_range=0.2,\n",
        "        zoom_range=0.4,\n",
        "        horizontal_flip=True,\n",
        "        vertical_flip=False,\n",
        "        fill_mode='nearest')"
      ],
      "metadata": {
        "id": "Is1jbIDcCJwc"
      },
      "execution_count": 13,
      "outputs": []
    },
    {
      "cell_type": "code",
      "source": [
        "for i in range(1,7):\n",
        "  os.chdir(r\"/content/gdrive/MyDrive/banana dataset/train_banana/day{0}\".format(i))\n",
        "  print(os.getcwd())\n",
        "  for path in os.listdir():\n",
        "    img = load_img(f\"{path}\")\n",
        "    x = img_to_array(img)    # this is a Numpy array with shape (3, 150, 150)\n",
        "    x = x.reshape((1,) + x.shape)\n",
        "    i = 0\n",
        "    for batch in datagen.flow(x, batch_size=1,\n",
        "                          save_to_dir=\".\", save_prefix='img', save_format='jpg'):\n",
        "        i += 1\n",
        "        if i > 10:     ## creates 10 image form 1 image \n",
        "            break "
      ],
      "metadata": {
        "colab": {
          "base_uri": "https://localhost:8080/"
        },
        "id": "mAByIP3oECFC",
        "outputId": "59dad761-3b2b-4e9b-cbbb-b62b221da38f"
      },
      "execution_count": 14,
      "outputs": [
        {
          "output_type": "stream",
          "name": "stdout",
          "text": [
            "/content/gdrive/MyDrive/banana dataset/train_banana/day1\n",
            "/content/gdrive/MyDrive/banana dataset/train_banana/day2\n",
            "/content/gdrive/MyDrive/banana dataset/train_banana/day3\n",
            "/content/gdrive/MyDrive/banana dataset/train_banana/day4\n",
            "/content/gdrive/MyDrive/banana dataset/train_banana/day5\n",
            "/content/gdrive/MyDrive/banana dataset/train_banana/day6\n"
          ]
        }
      ]
    },
    {
      "cell_type": "code",
      "source": [
        "for i in range(1,7):\n",
        "  os.chdir(r\"/content/gdrive/MyDrive/banana dataset/test_banana/day{0}\".format(i))\n",
        "  print(os.getcwd())\n",
        "  for path in os.listdir():\n",
        "    img = load_img(f\"{path}\")\n",
        "    x = img_to_array(img)    # this is a Numpy array with shape (3, 150, 150)\n",
        "    x = x.reshape((1,) + x.shape)\n",
        "    i = 0\n",
        "    for batch in datagen.flow(x, batch_size=1,\n",
        "                          save_to_dir=\".\", save_prefix='img', save_format='jpg'):\n",
        "        i += 1\n",
        "        if i > 10:     ## creates 10 image form 1 image \n",
        "            break "
      ],
      "metadata": {
        "colab": {
          "base_uri": "https://localhost:8080/"
        },
        "id": "BoKf2nZz19a7",
        "outputId": "6bd18efc-24af-485b-9d00-38d02789e782"
      },
      "execution_count": 15,
      "outputs": [
        {
          "output_type": "stream",
          "name": "stdout",
          "text": [
            "/content/gdrive/MyDrive/banana dataset/test_banana/day1\n",
            "/content/gdrive/MyDrive/banana dataset/test_banana/day2\n",
            "/content/gdrive/MyDrive/banana dataset/test_banana/day3\n",
            "/content/gdrive/MyDrive/banana dataset/test_banana/day4\n",
            "/content/gdrive/MyDrive/banana dataset/test_banana/day5\n",
            "/content/gdrive/MyDrive/banana dataset/test_banana/day6\n"
          ]
        }
      ]
    },
    {
      "cell_type": "markdown",
      "source": [
        "**Model Building**"
      ],
      "metadata": {
        "id": "bMnocFNtGDXT"
      }
    },
    {
      "cell_type": "code",
      "source": [
        "from keras.layers import Input,Lambda,Dense,Flatten\n",
        "from keras.models import Model \n",
        "from keras.applications.vgg16 import VGG16 \n",
        "from keras.applications.vgg16 import preprocess_input\n",
        "from keras.preprocessing import image\n",
        "from keras.preprocessing.image import ImageDataGenerator\n",
        "from keras.models import Sequential\n",
        "import numpy as np"
      ],
      "metadata": {
        "id": "tLxbEpZ6F9mt"
      },
      "execution_count": 16,
      "outputs": []
    },
    {
      "cell_type": "code",
      "source": [
        "IMAGE_SIZE = [224, 224]"
      ],
      "metadata": {
        "id": "9G33d2v5GSj1"
      },
      "execution_count": 17,
      "outputs": []
    },
    {
      "cell_type": "code",
      "source": [
        "vgg = VGG16(input_shape=IMAGE_SIZE + [3], weights='imagenet', include_top=False)"
      ],
      "metadata": {
        "id": "p51xRH_6GWO2",
        "colab": {
          "base_uri": "https://localhost:8080/"
        },
        "outputId": "215d5ee7-5357-43d0-bc75-2c4c8c09b326"
      },
      "execution_count": 18,
      "outputs": [
        {
          "output_type": "stream",
          "name": "stdout",
          "text": [
            "Downloading data from https://storage.googleapis.com/tensorflow/keras-applications/vgg16/vgg16_weights_tf_dim_ordering_tf_kernels_notop.h5\n",
            "58892288/58889256 [==============================] - 0s 0us/step\n",
            "58900480/58889256 [==============================] - 0s 0us/step\n"
          ]
        }
      ]
    },
    {
      "cell_type": "code",
      "source": [
        "for layer in vgg.layers:  \n",
        "  layer.trainable = False"
      ],
      "metadata": {
        "id": "P9R_aVlkGbSI"
      },
      "execution_count": 19,
      "outputs": []
    },
    {
      "cell_type": "code",
      "source": [
        "x = Flatten()(vgg.output)\n",
        "prediction = Dense(6, activation='softmax')(x)\n",
        "model = Model(inputs=vgg.input, outputs=prediction)"
      ],
      "metadata": {
        "id": "Y8e5bQKxGfR0"
      },
      "execution_count": 20,
      "outputs": []
    },
    {
      "cell_type": "code",
      "source": [
        "model.summary()"
      ],
      "metadata": {
        "colab": {
          "base_uri": "https://localhost:8080/"
        },
        "id": "CZ7yGjcPGi4G",
        "outputId": "3952cee9-9ca4-42ca-afcc-ae46e8b9d4d8"
      },
      "execution_count": 21,
      "outputs": [
        {
          "output_type": "stream",
          "name": "stdout",
          "text": [
            "Model: \"model\"\n",
            "_________________________________________________________________\n",
            " Layer (type)                Output Shape              Param #   \n",
            "=================================================================\n",
            " input_1 (InputLayer)        [(None, 224, 224, 3)]     0         \n",
            "                                                                 \n",
            " block1_conv1 (Conv2D)       (None, 224, 224, 64)      1792      \n",
            "                                                                 \n",
            " block1_conv2 (Conv2D)       (None, 224, 224, 64)      36928     \n",
            "                                                                 \n",
            " block1_pool (MaxPooling2D)  (None, 112, 112, 64)      0         \n",
            "                                                                 \n",
            " block2_conv1 (Conv2D)       (None, 112, 112, 128)     73856     \n",
            "                                                                 \n",
            " block2_conv2 (Conv2D)       (None, 112, 112, 128)     147584    \n",
            "                                                                 \n",
            " block2_pool (MaxPooling2D)  (None, 56, 56, 128)       0         \n",
            "                                                                 \n",
            " block3_conv1 (Conv2D)       (None, 56, 56, 256)       295168    \n",
            "                                                                 \n",
            " block3_conv2 (Conv2D)       (None, 56, 56, 256)       590080    \n",
            "                                                                 \n",
            " block3_conv3 (Conv2D)       (None, 56, 56, 256)       590080    \n",
            "                                                                 \n",
            " block3_pool (MaxPooling2D)  (None, 28, 28, 256)       0         \n",
            "                                                                 \n",
            " block4_conv1 (Conv2D)       (None, 28, 28, 512)       1180160   \n",
            "                                                                 \n",
            " block4_conv2 (Conv2D)       (None, 28, 28, 512)       2359808   \n",
            "                                                                 \n",
            " block4_conv3 (Conv2D)       (None, 28, 28, 512)       2359808   \n",
            "                                                                 \n",
            " block4_pool (MaxPooling2D)  (None, 14, 14, 512)       0         \n",
            "                                                                 \n",
            " block5_conv1 (Conv2D)       (None, 14, 14, 512)       2359808   \n",
            "                                                                 \n",
            " block5_conv2 (Conv2D)       (None, 14, 14, 512)       2359808   \n",
            "                                                                 \n",
            " block5_conv3 (Conv2D)       (None, 14, 14, 512)       2359808   \n",
            "                                                                 \n",
            " block5_pool (MaxPooling2D)  (None, 7, 7, 512)         0         \n",
            "                                                                 \n",
            " flatten (Flatten)           (None, 25088)             0         \n",
            "                                                                 \n",
            " dense (Dense)               (None, 6)                 150534    \n",
            "                                                                 \n",
            "=================================================================\n",
            "Total params: 14,865,222\n",
            "Trainable params: 150,534\n",
            "Non-trainable params: 14,714,688\n",
            "_________________________________________________________________\n"
          ]
        }
      ]
    },
    {
      "cell_type": "code",
      "source": [
        "model.compile( loss='categorical_crossentropy',  \n",
        "               optimizer='adam',  \n",
        "               metrics=['accuracy'])"
      ],
      "metadata": {
        "id": "53XoBD0DGrPa"
      },
      "execution_count": 22,
      "outputs": []
    },
    {
      "cell_type": "markdown",
      "source": [
        "**the training set and test set**"
      ],
      "metadata": {
        "id": "6OPfG7YjHe4Z"
      }
    },
    {
      "cell_type": "code",
      "source": [
        "train_datagen = ImageDataGenerator(rescale = 1./255,                          \n",
        "                                    shear_range = 0.2,\n",
        "                                   zoom_range = 0.2,\n",
        "                                    horizontal_flip= True)\n",
        "training_set = train_datagen.flow_from_directory('/content/gdrive/MyDrive/banana dataset/train_banana',\n",
        "                                           target_size = (224, 224),\n",
        "                                             batch_size = 16,                             \n",
        "                                        class_mode = 'categorical')"
      ],
      "metadata": {
        "colab": {
          "base_uri": "https://localhost:8080/"
        },
        "id": "dGTTu-LBG29u",
        "outputId": "b0c1c499-53fe-4b09-a4dc-f703a77b279c"
      },
      "execution_count": 29,
      "outputs": [
        {
          "output_type": "stream",
          "name": "stdout",
          "text": [
            "Found 2207 images belonging to 6 classes.\n"
          ]
        }
      ]
    },
    {
      "cell_type": "code",
      "source": [
        "test_datagen = ImageDataGenerator(rescale = 1./255)\n",
        "test_set = test_datagen.flow_from_directory('/content/gdrive/MyDrive/banana dataset/test_banana',\n",
        "                                         target_size = (224, 224),\n",
        "                                         batch_size=16,\n",
        "                                         class_mode = 'categorical')"
      ],
      "metadata": {
        "colab": {
          "base_uri": "https://localhost:8080/"
        },
        "id": "HqoYoN8THKHq",
        "outputId": "ee420b80-0a23-4461-82db-8e35d76e0e93"
      },
      "execution_count": 30,
      "outputs": [
        {
          "output_type": "stream",
          "name": "stdout",
          "text": [
            "Found 681 images belonging to 6 classes.\n"
          ]
        }
      ]
    },
    {
      "cell_type": "code",
      "source": [
        "r = model.fit_generator(training_set,  validation_data=test_set,  epochs=10,steps_per_epoch=len(training_set),validation_steps=len(test_set))"
      ],
      "metadata": {
        "colab": {
          "base_uri": "https://localhost:8080/"
        },
        "id": "vdfxr7LiHakf",
        "outputId": "f492fe2b-b2b5-4d89-d676-392b90cc13d0"
      },
      "execution_count": 31,
      "outputs": [
        {
          "metadata": {
            "tags": null
          },
          "name": "stderr",
          "output_type": "stream",
          "text": [
            "/usr/local/lib/python3.7/dist-packages/ipykernel_launcher.py:1: UserWarning: `Model.fit_generator` is deprecated and will be removed in a future version. Please use `Model.fit`, which supports generators.\n",
            "  \"\"\"Entry point for launching an IPython kernel.\n"
          ]
        },
        {
          "output_type": "stream",
          "name": "stdout",
          "text": [
            "Epoch 1/10\n",
            "138/138 [==============================] - 1451s 11s/step - loss: 0.3413 - accuracy: 0.8749 - val_loss: 2.7952 - val_accuracy: 0.4508\n",
            "Epoch 2/10\n",
            "138/138 [==============================] - 1448s 11s/step - loss: 0.2401 - accuracy: 0.9126 - val_loss: 2.8586 - val_accuracy: 0.4758\n",
            "Epoch 3/10\n",
            "138/138 [==============================] - 1439s 10s/step - loss: 0.1753 - accuracy: 0.9343 - val_loss: 2.9313 - val_accuracy: 0.4846\n",
            "Epoch 4/10\n",
            "138/138 [==============================] - 1439s 10s/step - loss: 0.1791 - accuracy: 0.9325 - val_loss: 2.9204 - val_accuracy: 0.4846\n",
            "Epoch 5/10\n",
            "138/138 [==============================] - 1458s 11s/step - loss: 0.1775 - accuracy: 0.9329 - val_loss: 3.3826 - val_accuracy: 0.4802\n",
            "Epoch 6/10\n",
            "138/138 [==============================] - 1444s 10s/step - loss: 0.1741 - accuracy: 0.9366 - val_loss: 3.3374 - val_accuracy: 0.4655\n",
            "Epoch 7/10\n",
            "138/138 [==============================] - 1452s 11s/step - loss: 0.1849 - accuracy: 0.9384 - val_loss: 3.5193 - val_accuracy: 0.5095\n",
            "Epoch 8/10\n",
            "138/138 [==============================] - 1450s 11s/step - loss: 0.1813 - accuracy: 0.9275 - val_loss: 3.3697 - val_accuracy: 0.4993\n",
            "Epoch 9/10\n",
            "138/138 [==============================] - 1449s 11s/step - loss: 0.1198 - accuracy: 0.9579 - val_loss: 3.7765 - val_accuracy: 0.4758\n",
            "Epoch 10/10\n",
            "138/138 [==============================] - 1450s 11s/step - loss: 0.1111 - accuracy: 0.9619 - val_loss: 3.6981 - val_accuracy: 0.4875\n"
          ]
        }
      ]
    },
    {
      "cell_type": "code",
      "source": [
        "model.save(\"banana_shelf_life1.h5\")"
      ],
      "metadata": {
        "id": "5FSjKFOpH46a"
      },
      "execution_count": 32,
      "outputs": []
    },
    {
      "cell_type": "code",
      "source": [
        "import matplotlib.pyplot as plt\n"
      ],
      "metadata": {
        "id": "ZfA7IJ-LJtNJ"
      },
      "execution_count": 33,
      "outputs": []
    },
    {
      "cell_type": "code",
      "source": [
        ""
      ],
      "metadata": {
        "id": "2mayRV-ldKnr"
      },
      "execution_count": null,
      "outputs": []
    }
  ]
}