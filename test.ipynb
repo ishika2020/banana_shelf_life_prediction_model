{
  "nbformat": 4,
  "nbformat_minor": 0,
  "metadata": {
    "colab": {
      "name": "Untitled4.ipynb",
      "provenance": [],
      "mount_file_id": "1v-V7mL5AFJ4b_UNDjM7lYOmtnLSobMxb",
      "authorship_tag": "ABX9TyOcvWsFXaIfRSyo5bcSg+RM"
    },
    "kernelspec": {
      "name": "python3",
      "display_name": "Python 3"
    },
    "language_info": {
      "name": "python"
    }
  },
  "cells": [
    {
      "cell_type": "code",
      "execution_count": 1,
      "metadata": {
        "id": "p_u7M8J7lbtw"
      },
      "outputs": [],
      "source": [
        "from __future__ import division\n",
        "import os\n",
        "import numpy as np"
      ]
    },
    {
      "cell_type": "code",
      "source": [
        "import tensorflow.keras\n",
        "from PIL import Image, ImageOps\n",
        "\n",
        "import numpy as np"
      ],
      "metadata": {
        "id": "XAZtDjOPlefU"
      },
      "execution_count": 16,
      "outputs": []
    },
    {
      "cell_type": "code",
      "source": [
        "def model_predict(img_path):\n",
        "    np.set_printoptions(suppress=True)\n",
        "    \n",
        "    # Create the array of the right shape to feed into the keras model\n",
        "    # The 'length' or number of images you can put into the array is\n",
        "    # determined by the first position in the shape tuple, in this case 1.\n",
        "    data = np.ndarray(shape=(1, 224, 224, 3), dtype=np.float32)\n",
        "    \n",
        "    # Replace this with the path to your image\n",
        "    image = Image.open(img_path)\n",
        "    #resizing the image to be at least 224x224 \n",
        "    \n",
        "    size = (224, 224)\n",
        "    image = ImageOps.fit(image, size, Image.ANTIALIAS)\n",
        "    \n",
        "    #turn the image into a numpy array\n",
        "    image_array = np.asarray(image)\n",
        "    \n",
        "    # Normalize the image\n",
        "    normalized_image_array = (image_array.astype(np.float32) / 127.0) - 1\n",
        "    \n",
        "    # Load the image into the array\n",
        "    data[0] = normalized_image_array\n",
        "    \n",
        "        \n",
        "    # Load the model\n",
        "    model = tensorflow.keras.models.load_model('/content/drive/MyDrive/banana_shelf_life1.h5')\n",
        "    \n",
        "    # run the inference\n",
        "    preds = \"\"\n",
        "    prediction = model.predict(data)\n",
        "    max_val = np.amax(prediction)*100\n",
        "    max_val = \"%.2f\" % max_val\n",
        "    if np.argmax(prediction)==0:\n",
        "        shelflife = 5\n",
        "    elif np.argmax(prediction)==1:\n",
        "        shelflife = 4\n",
        "    elif np.argmax(prediction)==2:\n",
        "        shelflife = 3\n",
        "    elif np.argmax(prediction)==3:\n",
        "        shelflife = 2\n",
        "    elif np.argmax(prediction)==4:\n",
        "        shelflife = 1\n",
        "    elif np.argmax(prediction)==5:\n",
        "        shelflife = 0\n",
        "    return shelflife"
      ],
      "metadata": {
        "id": "rceie2y_loZj"
      },
      "execution_count": 17,
      "outputs": []
    },
    {
      "cell_type": "code",
      "source": [
        ""
      ],
      "metadata": {
        "id": "CyqNKbF3lGah"
      },
      "execution_count": 17,
      "outputs": []
    },
    {
      "cell_type": "code",
      "source": [
        "preds = model_predict('/content/drive/MyDrive/banana dataset/final_test/2.jpg')\n",
        "print(\"{0} Days left\".format(preds)) "
      ],
      "metadata": {
        "colab": {
          "base_uri": "https://localhost:8080/"
        },
        "id": "Pznhd26uBwSG",
        "outputId": "43940eca-6585-4b73-c121-b76e35cebc61"
      },
      "execution_count": 18,
      "outputs": [
        {
          "output_type": "stream",
          "name": "stdout",
          "text": [
            "4 Days left\n"
          ]
        }
      ]
    },
    {
      "cell_type": "code",
      "source": [
        "preds = model_predict('/content/drive/MyDrive/banana dataset/final_test/5.jpg')\n",
        "print(\"{0} Days left\".format(preds))"
      ],
      "metadata": {
        "colab": {
          "base_uri": "https://localhost:8080/"
        },
        "id": "qGoc7e7Vqw8-",
        "outputId": "0489100a-e03a-412e-860b-ef2e9950de4a"
      },
      "execution_count": 19,
      "outputs": [
        {
          "output_type": "stream",
          "name": "stdout",
          "text": [
            "1 Days left\n"
          ]
        }
      ]
    },
    {
      "cell_type": "code",
      "source": [
        "preds = model_predict('/content/drive/MyDrive/banana dataset/final_test/6.jpg')\n",
        "print(\"{0} Days left\".format(preds))"
      ],
      "metadata": {
        "colab": {
          "base_uri": "https://localhost:8080/"
        },
        "id": "c2H8fh6QHBkO",
        "outputId": "fa6d1083-288f-4412-b7e9-11e5ea23ec01"
      },
      "execution_count": 20,
      "outputs": [
        {
          "output_type": "stream",
          "name": "stdout",
          "text": [
            "WARNING:tensorflow:5 out of the last 5 calls to <function Model.make_predict_function.<locals>.predict_function at 0x7f68349c0200> triggered tf.function retracing. Tracing is expensive and the excessive number of tracings could be due to (1) creating @tf.function repeatedly in a loop, (2) passing tensors with different shapes, (3) passing Python objects instead of tensors. For (1), please define your @tf.function outside of the loop. For (2), @tf.function has experimental_relax_shapes=True option that relaxes argument shapes that can avoid unnecessary retracing. For (3), please refer to https://www.tensorflow.org/guide/function#controlling_retracing and https://www.tensorflow.org/api_docs/python/tf/function for  more details.\n",
            "0 Days left\n"
          ]
        }
      ]
    },
    {
      "cell_type": "code",
      "source": [
        ""
      ],
      "metadata": {
        "id": "pwjeBAfgHMou"
      },
      "execution_count": null,
      "outputs": []
    }
  ]
}